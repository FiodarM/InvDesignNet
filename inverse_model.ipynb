{
 "cells": [
  {
   "cell_type": "code",
   "execution_count": 21,
   "id": "about-conspiracy",
   "metadata": {},
   "outputs": [],
   "source": [
    "%matplotlib inline\n",
    "import numpy as np\n",
    "import os\n",
    "import matplotlib.pyplot as plt\n",
    "import tensorflow as tf\n",
    "from tensorflow import keras\n",
    "from tensorflow.keras import layers\n",
    "from sklearn.model_selection import train_test_split\n",
    "from grating import *"
   ]
  },
  {
   "cell_type": "code",
   "execution_count": 10,
   "id": "daily-glossary",
   "metadata": {},
   "outputs": [],
   "source": [
    "%config IPCompleter.use_jedi = False"
   ]
  },
  {
   "cell_type": "code",
   "execution_count": 11,
   "id": "loving-chapter",
   "metadata": {},
   "outputs": [],
   "source": [
    "epsilon_Si = 13.491\n",
    "epsilon_SiO2 = 2.085136\n",
    "n_freqs = 200\n",
    "freqs = np.linspace(0.15, 0.25, n_freqs)\n",
    "n_grating_layers = 15"
   ]
  },
  {
   "cell_type": "code",
   "execution_count": 12,
   "id": "domestic-transport",
   "metadata": {},
   "outputs": [
    {
     "name": "stdout",
     "output_type": "stream",
     "text": [
      "Train set contains 588429 samples\n",
      "Validation set contains 65381 samples\n"
     ]
    }
   ],
   "source": [
    "fname = 'dataset.npz'\n",
    "with np.load(fname) as data:\n",
    "    designs = data['D']\n",
    "    responses = data['R']\n",
    "    \n",
    "n_grating_layers = designs.shape[-1]\n",
    "n_freqs = responses.shape[-1]\n",
    "Dtrain, Dtest, Rtrain, Rtest = train_test_split(designs, responses,\n",
    "                                                test_size=0.1,\n",
    "                                                random_state=42)\n",
    "print(\"Train set contains {} samples\".format(Dtrain.shape[0]))\n",
    "print(\"Validation set contains {} samples\".format(Dtest.shape[0]))"
   ]
  },
  {
   "cell_type": "code",
   "execution_count": 45,
   "id": "clear-coordinate",
   "metadata": {},
   "outputs": [],
   "source": [
    "load_dir = 'forward_model'\n",
    "fmodel = keras.models.load_model(\n",
    "    os.path.join(load_dir, 'Arch4_Epochs400_Adam0001_Sigmoid.h5'))"
   ]
  },
  {
   "cell_type": "code",
   "execution_count": 47,
   "id": "sixth-statistics",
   "metadata": {},
   "outputs": [
    {
     "data": {
      "text/plain": [
       "[<matplotlib.lines.Line2D at 0x7ff578e632d0>]"
      ]
     },
     "execution_count": 47,
     "metadata": {},
     "output_type": "execute_result"
    },
    {
     "data": {
      "image/png": "[encoded data removed]",
      "text/plain": [
       "<Figure size 432x288 with 1 Axes>"
      ]
     },
     "metadata": {
      "needs_background": "light"
     },
     "output_type": "display_data"
    }
   ],
   "source": [
    "np.random.seed(42)\n",
    "D = np.random.random_sample((1, n_grating_layers))\n",
    "gr = Grating(epsilon_Si, epsilon_SiO2, D[0])\n",
    "fig, ax = plt.subplots()\n",
    "line, = ax.plot(freqs, gr.transmittivity(freqs))\n",
    "ax.plot(freqs, fmodel(D)[0].numpy(), '--', color=line.get_color())"
   ]
  },
  {
   "cell_type": "code",
   "execution_count": 100,
   "id": "immediate-equilibrium",
   "metadata": {},
   "outputs": [
    {
     "name": "stdout",
     "output_type": "stream",
     "text": [
      "Model: \"sequential_18\"\n",
      "_________________________________________________________________\n",
      "Layer (type)                 Output Shape              Param #   \n",
      "=================================================================\n",
      "I1 (Dense)                   (None, 500)               100500    \n",
      "_________________________________________________________________\n",
      "I2 (Dense)                   (None, 200)               100200    \n",
      "_________________________________________________________________\n",
      "I3 (Dense)                   (None, 15)                3015      \n",
      "=================================================================\n",
      "Total params: 203,715\n",
      "Trainable params: 203,715\n",
      "Non-trainable params: 0\n",
      "_________________________________________________________________\n"
     ]
    }
   ],
   "source": [
    "activation = keras.activations.sigmoid\n",
    "inputs = layers.Input((n_freqs,), name='D')\n",
    "I1 = layers.Dense(500, activation=activation, name='I1')\n",
    "I2 = layers.Dense(200, activation=activation, name='I2')\n",
    "I3 = layers.Dense(n_grating_layers, activation='relu', name='I3')\n",
    "imodel = keras.Sequential([inputs, I1, I2, I3])\n",
    "imodel.summary()"
   ]
  },
  {
   "cell_type": "code",
   "execution_count": 102,
   "id": "medium-selection",
   "metadata": {},
   "outputs": [
    {
     "name": "stdout",
     "output_type": "stream",
     "text": [
      "Model: \"model_6\"\n",
      "_________________________________________________________________\n",
      "Layer (type)                 Output Shape              Param #   \n",
      "=================================================================\n",
      "D (InputLayer)               [(None, 200)]             0         \n",
      "_________________________________________________________________\n",
      "sequential_18 (Sequential)   (None, 15)                203715    \n",
      "_________________________________________________________________\n",
      "sequential_4 (Sequential)    (None, 200)               228800    \n",
      "=================================================================\n",
      "Total params: 432,515\n",
      "Trainable params: 203,715\n",
      "Non-trainable params: 228,800\n",
      "_________________________________________________________________\n"
     ]
    }
   ],
   "source": [
    "tandem = keras.Model(input_layer, fmodel(imodel(inputs)))\n",
    "tandem.layers[-1].trainable = False\n",
    "tandem.summary()"
   ]
  },
  {
   "cell_type": "code",
   "execution_count": 103,
   "id": "selected-interest",
   "metadata": {},
   "outputs": [],
   "source": [
    "def loss(y_true, y_pred):\n",
    "    return n_freqs * keras.losses.mse(y_true, y_pred)\n",
    "\n",
    "tandem.compile(loss=loss, optimizer='adam')"
   ]
  },
  {
   "cell_type": "code",
   "execution_count": 105,
   "id": "renewable-editor",
   "metadata": {},
   "outputs": [
    {
     "name": "stdout",
     "output_type": "stream",
     "text": [
      "Epoch 1/10\n",
      "4598/4598 [==============================] - 26s 6ms/step - loss: 7.4798 - val_loss: 7.0249\n",
      "Epoch 2/10\n",
      "4598/4598 [==============================] - 33s 7ms/step - loss: 6.6164 - val_loss: 5.8194\n",
      "Epoch 3/10\n",
      "4598/4598 [==============================] - 44s 10ms/step - loss: 5.6502 - val_loss: 5.4351\n",
      "Epoch 4/10\n",
      "4598/4598 [==============================] - 43s 9ms/step - loss: 5.3250 - val_loss: 5.3145\n",
      "Epoch 5/10\n",
      "4598/4598 [==============================] - 42s 9ms/step - loss: 5.1476 - val_loss: 5.1017\n",
      "Epoch 6/10\n",
      "4598/4598 [==============================] - 40s 9ms/step - loss: 5.0373 - val_loss: 4.9494\n",
      "Epoch 7/10\n",
      "4598/4598 [==============================] - 39s 8ms/step - loss: 4.9526 - val_loss: 4.8931\n",
      "Epoch 8/10\n",
      "4598/4598 [==============================] - 50s 11ms/step - loss: 4.8793 - val_loss: 4.8895\n",
      "Epoch 9/10\n",
      "4598/4598 [==============================] - 70s 15ms/step - loss: 4.7528 - val_loss: 4.5469\n",
      "Epoch 10/10\n",
      "4598/4598 [==============================] - 79s 17ms/step - loss: 4.5106 - val_loss: 4.4887\n"
     ]
    }
   ],
   "source": [
    "info = tandem.fit(Rtrain, Rtrain,\n",
    "                 batch_size=128, epochs=10,\n",
    "                 validation_data=(Rtest, Rtest),\n",
    "                 validation_freq=1,\n",
    "                 initial_epoch=initial_epoch)\n",
    "initial_epoch = info.epoch[-1]"
   ]
  },
  {
   "cell_type": "code",
   "execution_count": 106,
   "id": "comprehensive-camel",
   "metadata": {},
   "outputs": [
    {
     "data": {
      "image/png": "[encoded data removed]",
      "text/plain": [
       "<Figure size 432x288 with 1 Axes>"
      ]
     },
     "metadata": {
      "needs_background": "light"
     },
     "output_type": "display_data"
    }
   ],
   "source": [
    "idx = np.random.randint(0, Rtest.shape[0], 1)\n",
    "dnn_designs = imodel(Rtest[idx]).numpy()\n",
    "true_designs = Dtest[idx]\n",
    "for o, r in zip(dnn_designs, true_designs):\n",
    "    line, = plt.plot(o, '--')\n",
    "    plt.plot(r, '-', color=line.get_color())"
   ]
  }
 ],
 "metadata": {
  "kernelspec": {
   "display_name": "Python 3",
   "language": "python",
   "name": "python3"
  },
  "language_info": {
   "codemirror_mode": {
    "name": "ipython",
    "version": 3
   },
   "file_extension": ".py",
   "mimetype": "text/x-python",
   "name": "python",
   "nbconvert_exporter": "python",
   "pygments_lexer": "ipython3",
   "version": "3.7.9"
  }
 },
 "nbformat": 4,
 "nbformat_minor": 5
}
