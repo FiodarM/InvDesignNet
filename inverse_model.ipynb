{
 "cells": [
  {
   "cell_type": "code",
   "execution_count": 1,
   "id": "about-conspiracy",
   "metadata": {},
   "outputs": [],
   "source": [
    "%matplotlib inline\n",
    "import numpy as np\n",
    "import os\n",
    "import matplotlib.pyplot as plt\n",
    "import tensorflow as tf\n",
    "from tensorflow import keras\n",
    "from tensorflow.keras import layers\n",
    "from sklearn.model_selection import train_test_split\n",
    "from grating import *"
   ]
  },
  {
   "cell_type": "code",
   "execution_count": 2,
   "id": "daily-glossary",
   "metadata": {},
   "outputs": [],
   "source": [
    "%config IPCompleter.use_jedi = False"
   ]
  },
  {
   "cell_type": "code",
   "execution_count": 3,
   "id": "loving-chapter",
   "metadata": {},
   "outputs": [],
   "source": [
    "epsilon_Si = 13.491\n",
    "epsilon_SiO2 = 2.085136\n",
    "n_freqs = 200\n",
    "freqs = np.linspace(0.15, 0.25, n_freqs)\n",
    "n_grating_layers = 15"
   ]
  },
  {
   "cell_type": "code",
   "execution_count": 4,
   "id": "domestic-transport",
   "metadata": {},
   "outputs": [
    {
     "name": "stdout",
     "output_type": "stream",
     "text": [
      "Train set contains 588429 samples\n",
      "Validation set contains 65381 samples\n"
     ]
    }
   ],
   "source": [
    "fname = 'dataset.npz'\n",
    "with np.load(fname) as data:\n",
    "    designs = data['D']\n",
    "    responses = data['R']\n",
    "    \n",
    "n_grating_layers = designs.shape[-1]\n",
    "n_freqs = responses.shape[-1]\n",
    "Dtrain, Dtest, Rtrain, Rtest = train_test_split(designs, responses,\n",
    "                                                test_size=0.1,\n",
    "                                                random_state=42)\n",
    "print(\"Train set contains {} samples\".format(Dtrain.shape[0]))\n",
    "print(\"Validation set contains {} samples\".format(Dtest.shape[0]))"
   ]
  },
  {
   "cell_type": "code",
   "execution_count": 5,
   "id": "clear-coordinate",
   "metadata": {},
   "outputs": [],
   "source": [
    "load_dir = 'forward_model'\n",
    "def loss(y_true, y_pred):\n",
    "    return n_freqs * keras.losses.mse(y_true, y_pred)\n",
    "\n",
    "fmodel = keras.models.load_model(\n",
    "    os.path.join(load_dir, 'Arch4_Epochs1000_Adam0001_Sigmoid.h5'),\n",
    "    custom_objects={'loss': loss})"
   ]
  },
  {
   "cell_type": "code",
   "execution_count": 6,
   "id": "sixth-statistics",
   "metadata": {},
   "outputs": [
    {
     "data": {
      "text/plain": [
       "[<matplotlib.lines.Line2D at 0x182c6046dc0>]"
      ]
     },
     "execution_count": 6,
     "metadata": {},
     "output_type": "execute_result"
    },
    {
     "data": {
      "image/png": "[encoded data removed]",
      "text/plain": [
       "<Figure size 432x288 with 1 Axes>"
      ]
     },
     "metadata": {
      "needs_background": "light"
     },
     "output_type": "display_data"
    }
   ],
   "source": [
    "np.random.seed(42)\n",
    "D = np.random.random_sample((1, n_grating_layers))\n",
    "gr = Grating(epsilon_Si, epsilon_SiO2, D[0])\n",
    "fig, ax = plt.subplots()\n",
    "line, = ax.plot(freqs, gr.transmittivity(freqs))\n",
    "ax.plot(freqs, fmodel(D)[0].numpy(), '--', color=line.get_color())"
   ]
  },
  {
   "cell_type": "code",
   "execution_count": 30,
   "id": "immediate-equilibrium",
   "metadata": {},
   "outputs": [
    {
     "name": "stdout",
     "output_type": "stream",
     "text": [
      "Model: \"InverseNet\"\n",
      "_________________________________________________________________\n",
      "Layer (type)                 Output Shape              Param #   \n",
      "=================================================================\n",
      "I1 (Dense)                   (None, 500)               100500    \n",
      "_________________________________________________________________\n",
      "I2 (Dense)                   (None, 200)               100200    \n",
      "_________________________________________________________________\n",
      "D (Dense)                    (None, 15)                3015      \n",
      "=================================================================\n",
      "Total params: 203,715\n",
      "Trainable params: 203,715\n",
      "Non-trainable params: 0\n",
      "_________________________________________________________________\n"
     ]
    }
   ],
   "source": [
    "activation = keras.activations.sigmoid\n",
    "inputs = layers.Input((n_freqs,), name='R')\n",
    "I1 = layers.Dense(500, activation=activation, name='I1')\n",
    "I2 = layers.Dense(200, activation=activation, name='I2')\n",
    "I3 = layers.Dense(n_grating_layers, activation=activation, name='D', dtype=np.double)\n",
    "imodel = keras.Sequential([inputs, I1, I2, I3], name='InverseNet')\n",
    "imodel.summary()"
   ]
  },
  {
   "cell_type": "code",
   "execution_count": 32,
   "id": "medium-selection",
   "metadata": {},
   "outputs": [
    {
     "name": "stdout",
     "output_type": "stream",
     "text": [
      "Model: \"TandemNet\"\n",
      "_________________________________________________________________\n",
      "Layer (type)                 Output Shape              Param #   \n",
      "=================================================================\n",
      "R (InputLayer)               [(None, 200)]             0         \n",
      "_________________________________________________________________\n",
      "InverseNet (Sequential)      (None, 15)                203715    \n",
      "_________________________________________________________________\n",
      "sequential (Sequential)      (None, 200)               228800    \n",
      "=================================================================\n",
      "Total params: 432,515\n",
      "Trainable params: 203,715\n",
      "Non-trainable params: 228,800\n",
      "_________________________________________________________________\n"
     ]
    }
   ],
   "source": [
    "tandem = keras.Model(inputs, fmodel(imodel(inputs)),\n",
    "                    name='TandemNet')\n",
    "tandem.layers[-1].trainable = False\n",
    "tandem.summary()"
   ]
  },
  {
   "cell_type": "code",
   "execution_count": 33,
   "id": "selected-interest",
   "metadata": {},
   "outputs": [],
   "source": [
    "tandem.compile(loss=loss, optimizer='adam')"
   ]
  },
  {
   "cell_type": "code",
   "execution_count": 50,
   "id": "renewable-editor",
   "metadata": {},
   "outputs": [
    {
     "name": "stdout",
     "output_type": "stream",
     "text": [
      "Epoch 4/5\n",
      "4598/4598 [==============================] - 25s 5ms/step - loss: 1.3663\n",
      "Epoch 5/5\n",
      "4598/4598 [==============================] - 26s 6ms/step - loss: 1.2959 - val_loss: 1.2814\n"
     ]
    }
   ],
   "source": [
    "try:\n",
    "    initial_epoch = tandem.history.epoch[-1] + 1\n",
    "except AttributeError:\n",
    "    initial_epoch = 0\n",
    "\n",
    "info = tandem.fit(Rtrain, Rtrain,\n",
    "                 batch_size=128, epochs=2 + initial_epoch,\n",
    "                 validation_data=(Rtest, Rtest),\n",
    "                 validation_freq=5,\n",
    "                 initial_epoch=initial_epoch,\n",
    "                 use_multiprocessing=True)"
   ]
  },
  {
   "cell_type": "code",
   "execution_count": 57,
   "id": "comprehensive-camel",
   "metadata": {},
   "outputs": [
    {
     "data": {
      "text/plain": [
       "[<matplotlib.lines.Line2D at 0x182d1a5e880>]"
      ]
     },
     "execution_count": 57,
     "metadata": {},
     "output_type": "execute_result"
    },
    {
     "data": {
      "image/png": "[encoded data removed]",
      "text/plain": [
       "<Figure size 432x288 with 1 Axes>"
      ]
     },
     "metadata": {
      "needs_background": "light"
     },
     "output_type": "display_data"
    },
    {
     "data": {
      "image/png": "[encoded data removed]",
      "text/plain": [
       "<Figure size 432x288 with 1 Axes>"
      ]
     },
     "metadata": {
      "needs_background": "light"
     },
     "output_type": "display_data"
    },
    {
     "data": {
      "image/png": "[encoded data removed]",
      "text/plain": [
       "<Figure size 432x288 with 1 Axes>"
      ]
     },
     "metadata": {
      "needs_background": "light"
     },
     "output_type": "display_data"
    }
   ],
   "source": [
    "idx = np.random.randint(0, Rtest.shape[0], 1)\n",
    "dnn_designs = [Grating(epsilon_Si, epsilon_SiO2, d) for d in imodel(Rtest[idx]).numpy()]\n",
    "true_designs = [Grating(epsilon_Si, epsilon_SiO2, d) for d in  Dtest[idx]]\n",
    "for o, d in zip(dnn_designs, true_designs):\n",
    "    o.plot()\n",
    "    d.plot()\n",
    "\n",
    "fig, ax = plt.subplots()\n",
    "line, = ax.plot(freqs, d.transmittivity(freqs))\n",
    "ax.plot(freqs, o.transmittivity(freqs), '--', color=line.get_color())"
   ]
  }
 ],
 "metadata": {
  "kernelspec": {
   "display_name": "Python 3",
   "language": "python",
   "name": "python3"
  },
  "language_info": {
   "codemirror_mode": {
    "name": "ipython",
    "version": 3
   },
   "file_extension": ".py",
   "mimetype": "text/x-python",
   "name": "python",
   "nbconvert_exporter": "python",
   "pygments_lexer": "ipython3",
   "version": "3.8.5"
  }
 },
 "nbformat": 4,
 "nbformat_minor": 5
}
