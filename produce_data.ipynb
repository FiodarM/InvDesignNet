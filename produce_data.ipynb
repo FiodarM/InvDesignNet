{
 "cells": [
  {
   "cell_type": "code",
   "execution_count": null,
   "id": "vertical-portsmouth",
   "metadata": {},
   "outputs": [],
   "source": [
    "%matplotlib inline\n",
    "import numpy as np\n",
    "import scipy.linalg as spla\n",
    "import matplotlib.pyplot as plt\n",
    "from tqdm.notebook import tqdm\n",
    "import os\n",
    "import pyximport\n",
    "pyximport.install(\n",
    "    language_level=3,\n",
    "    reload_support=True\n",
    ")\n",
    "from grating import *\n",
    "import gc"
   ]
  },
  {
   "cell_type": "code",
   "execution_count": null,
   "id": "united-prerequisite",
   "metadata": {},
   "outputs": [],
   "source": [
    "epsilon_Si = 13.491\n",
    "epsilon_SiO2 = 2.085136\n",
    "n_freqs = 200\n",
    "freqs = np.linspace(0.15, 0.25, n_freqs)\n",
    "n_grating_layers = 15\n",
    "\n",
    "np.random.seed(42)\n",
    "D = np.random.random_sample(n_grating_layers)\n",
    "gr = Grating(epsilon_Si, epsilon_SiO2, D)\n",
    "ps = gr.propagator(freqs)\n",
    "ts = list(map(operator_t, ps))\n",
    "plt.plot(freqs, [np.abs(t[0, 0]) ** 2 for t in ts])\n",
    "plt.ylim(0, 1)"
   ]
  },
  {
   "cell_type": "code",
   "execution_count": null,
   "id": "shared-framework",
   "metadata": {},
   "outputs": [],
   "source": [
    "# Benchmarking\n",
    "%timeit propagator_layer(0., epsilon_Si, 2)\n",
    "%timeit gr.propagator(0.2)\n",
    "%timeit gr.propagator(freqs)"
   ]
  },
  {
   "cell_type": "code",
   "execution_count": null,
   "id": "fossil-witness",
   "metadata": {},
   "outputs": [],
   "source": [
    "batch_size = 1000\n",
    "n_grating_layers = 15\n",
    "\n",
    "a = 1\n",
    "freqs = np.linspace(0.15 / a, 0.25 / a, n_freqs)\n",
    "\n",
    "\n",
    "from produce_data import save_samples\n",
    "fname = 'dataset.npz'\n",
    "samples = dict(D=[], R=[])\n",
    "try:\n",
    "    i = 0\n",
    "    with tqdm(total=batch_size, leave=False) as pbar:\n",
    "        while True:\n",
    "            D = np.random.random_sample(n_grating_layers)\n",
    "            gr = Grating(epsilon_Si, epsilon_SiO2, D)\n",
    "            ps = gr.propagator(freqs)\n",
    "            ts = np.array(list(map(operator_t, ps)))\n",
    "            i += 1\n",
    "            pbar.update(1)\n",
    "            samples['D'].append(D)\n",
    "            samples['R'].append(np.abs(ts[:, 0, 0]) ** 2)\n",
    "            if i == batch_size:\n",
    "                save_samples(fname, samples)\n",
    "                samples = dict(D=[], R=[])\n",
    "                gc.collect()\n",
    "                pbar.reset()\n",
    "                i = 0\n",
    "except KeyboardInterrupt:\n",
    "    save_samples(fname, samples)"
   ]
  }
 ],
 "metadata": {
  "kernelspec": {
   "display_name": "Python 3",
   "language": "python",
   "name": "python3"
  },
  "language_info": {
   "codemirror_mode": {
    "name": "ipython",
    "version": 3
   },
   "file_extension": ".py",
   "mimetype": "text/x-python",
   "name": "python",
   "nbconvert_exporter": "python",
   "pygments_lexer": "ipython3",
   "version": "3.7.9"
  }
 },
 "nbformat": 4,
 "nbformat_minor": 5
}
