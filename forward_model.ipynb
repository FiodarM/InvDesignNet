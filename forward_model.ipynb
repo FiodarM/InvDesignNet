{
 "cells": [
  {
   "cell_type": "code",
   "execution_count": null,
   "id": "imperial-lexington",
   "metadata": {},
   "outputs": [],
   "source": [
    "%matplotlib inline\n",
    "import numpy as np\n",
    "import matplotlib.pyplot as plt\n",
    "import tensorflow as tf\n",
    "from tensorflow import keras\n",
    "from tensorflow.keras import layers\n",
    "from sklearn.model_selection import train_test_split"
   ]
  },
  {
   "cell_type": "code",
   "execution_count": null,
   "id": "handmade-bedroom",
   "metadata": {},
   "outputs": [],
   "source": [
    "%config IPCompleter.use_jedi = False"
   ]
  },
  {
   "cell_type": "code",
   "execution_count": null,
   "id": "understanding-anderson",
   "metadata": {},
   "outputs": [],
   "source": [
    "fname = 'dataset.npz'\n",
    "with np.load(fname) as data:\n",
    "    designs = data['D']\n",
    "    responses = data['R']\n",
    "    \n",
    "n_grating_layers = designs.shape[-1]\n",
    "n_freqs = responses.shape[-1]\n",
    "Dtrain, Dtest, Rtrain, Rtest = train_test_split(designs, responses,\n",
    "                                                test_size=0.2,\n",
    "                                                random_state=42)\n",
    "print(\"Train set contains {} samples\".format(Dtrain.shape[0]))\n",
    "print(\"Validation set contains {} samples\".format(Dtest.shape[0]))"
   ]
  },
  {
   "cell_type": "code",
   "execution_count": null,
   "id": "ceramic-samuel",
   "metadata": {},
   "outputs": [],
   "source": [
    "activation = keras.activations.relu\n",
    "model = keras.Sequential([layers.Input((n_grating_layers,)),\n",
    "#                           layers.Dense(300, activation=activation),\n",
    "                          layers.Dense(500, activation=activation),\n",
    "#                           layers.Dense(200, activation=activation),\n",
    "                          layers.Dense(n_freqs, activation)])\n",
    "model.summary()"
   ]
  },
  {
   "cell_type": "code",
   "execution_count": null,
   "id": "processed-theme",
   "metadata": {},
   "outputs": [],
   "source": [
    "loss = keras.losses.MeanSquaredError()\n",
    "model.compile(optimizer='adam', loss=loss)"
   ]
  },
  {
   "cell_type": "code",
   "execution_count": null,
   "id": "hollywood-asian",
   "metadata": {},
   "outputs": [],
   "source": [
    "initial_epoch = 0"
   ]
  },
  {
   "cell_type": "code",
   "execution_count": null,
   "id": "facial-tract",
   "metadata": {
    "scrolled": true
   },
   "outputs": [],
   "source": [
    "info = model.fit(Dtrain, Rtrain,\n",
    "                 batch_size=128, epochs=100,\n",
    "                 validation_data=(Dtest, Rtest),\n",
    "                 validation_freq=5,\n",
    "                 initial_epoch=initial_epoch)\n",
    "initial_epoch = info.epoch[-1]"
   ]
  },
  {
   "cell_type": "code",
   "execution_count": null,
   "id": "agricultural-florence",
   "metadata": {},
   "outputs": [],
   "source": [
    "val_loss = info.history['val_loss']\n",
    "loss = info.history['loss']\n",
    "plt.plot(info.epoch, loss)\n",
    "plt.plot(info.epoch[::5], val_loss)"
   ]
  },
  {
   "cell_type": "code",
   "execution_count": null,
   "id": "enormous-mobility",
   "metadata": {},
   "outputs": [],
   "source": [
    "idx = np.random.randint(0, Dtest.shape[0], 1)\n",
    "dnn_responses = model(Dtest[idx]).numpy()\n",
    "responses = Rtest[idx]\n",
    "for o, r in zip(dnn_responses, responses):\n",
    "    line, = plt.plot(o, '--')\n",
    "    plt.plot(r, '-', color=line.get_color())"
   ]
  }
 ],
 "metadata": {
  "kernelspec": {
   "display_name": "Python 3",
   "language": "python",
   "name": "python3"
  },
  "language_info": {
   "codemirror_mode": {
    "name": "ipython",
    "version": 3
   },
   "file_extension": ".py",
   "mimetype": "text/x-python",
   "name": "python",
   "nbconvert_exporter": "python",
   "pygments_lexer": "ipython3",
   "version": "3.7.9"
  }
 },
 "nbformat": 4,
 "nbformat_minor": 5
}
